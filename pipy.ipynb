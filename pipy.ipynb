{
 "cells": [
  {
   "cell_type": "code",
   "execution_count": 1,
   "metadata": {
    "cocalc": {
     "outputs": {
      "0": {
       "name": "input",
       "opts": {
        "password": false,
        "prompt": "Enter decimal places:"
       },
       "output_type": "stream",
       "value": "90"
      }
     }
    },
    "collapsed": false
   },
   "outputs": [
    {
     "name": "stdout",
     "output_type": "stream",
     "text": "Enter decimal places: 90"
    },
    {
     "name": "stdout",
     "output_type": "stream",
     "text": [
      "3.141592653589793238462643383279502884197169399375105820974944592307816406816734702647462190\n"
     ]
    }
   ],
   "source": [
    "import decimal \n",
    "import math \n",
    "#we use Chundnovsky's formulae\n",
    "def compute_pi(n): \n",
    "     decimal.getcontext().prec=n+1\n",
    "     A=426880*decimal.Decimal(10005).sqrt()\n",
    "     B=6\n",
    "     C=1\n",
    "     D=1\n",
    "     E=13591409\n",
    "     F=E\n",
    "     for i in range(1,n):\n",
    "          C=C*((1728*i*i*i)-(2592*i*i)+(1104*i)-120)/(i*i*i)\n",
    "          E+=545140134\n",
    "          D*=0-262537412640768000\n",
    "          F+=decimal.Decimal(C*E)/D\n",
    "     pi=A/F\n",
    "     return pi\n",
    "n=int(input(\"Enter decimal places:\"))\n",
    "P=compute_pi(n)\n",
    "print(P)"
   ]
  },
  {
   "cell_type": "code",
   "execution_count": 0,
   "metadata": {
    "collapsed": false
   },
   "outputs": [
   ],
   "source": [
   ]
  }
 ],
 "metadata": {
  "kernelspec": {
   "display_name": "Python 3 (system-wide)",
   "language": "python",
   "metadata": {
    "cocalc": {
     "description": "Python 3 programming language",
     "priority": 100,
     "url": "https://www.python.org/"
    }
   },
   "name": "python3",
   "resource_dir": "/ext/jupyter/kernels/python3"
  },
  "language_info": {
   "codemirror_mode": {
    "name": "ipython",
    "version": 3
   },
   "file_extension": ".py",
   "mimetype": "text/x-python",
   "name": "python",
   "nbconvert_exporter": "python",
   "pygments_lexer": "ipython3",
   "version": "3.8.10"
  }
 },
 "nbformat": 4,
 "nbformat_minor": 4
}